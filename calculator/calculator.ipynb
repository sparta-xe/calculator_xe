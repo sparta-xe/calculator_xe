{
 "cells": [
  {
   "cell_type": "code",
   "execution_count": 1,
   "metadata": {},
   "outputs": [],
   "source": [
    "import tkinter as tk"
   ]
  },
  {
   "cell_type": "code",
   "execution_count": 2,
   "metadata": {},
   "outputs": [],
   "source": [
    "def click(event):\n",
    "    current = str(entry.get())\n",
    "    text = event.widget.cget(\"text\")\n",
    "    if text == \"=\":\n",
    "        try:\n",
    "            result = eval(current)\n",
    "            entry.delete(0, tk.END)\n",
    "            entry.insert(tk.END, result)\n",
    "        except Exception as e:\n",
    "            entry.delete(0, tk.END)\n",
    "            entry.insert(tk.END, \"Error\")\n",
    "    elif text == \"C\":\n",
    "        entry.delete(0, tk.END)\n",
    "    else:\n",
    "        entry.insert(tk.END, text)\n",
    "\n",
    "\n",
    "root = tk.Tk()\n",
    "root.geometry(\"300x400\")\n",
    "root.title(\"Simple Calculator\")\n",
    "\n",
    "\n",
    "entry = tk.Entry(root, font=\"Arial 20\")\n",
    "entry.pack(fill=tk.BOTH, ipadx=8, pady=10, padx=10)\n",
    "\n",
    "\n",
    "button_frame = tk.Frame(root)\n",
    "button_frame.pack()\n",
    "\n",
    "\n",
    "buttons = [\n",
    "    [\"7\", \"8\", \"9\", \"/\"],\n",
    "    [\"4\", \"5\", \"6\", \"*\"],\n",
    "    [\"1\", \"2\", \"3\", \"-\"],\n",
    "    [\"C\", \"0\", \"=\", \"+\"]\n",
    "]\n",
    "\n",
    "\n",
    "for row in buttons:\n",
    "    frame = tk.Frame(button_frame)\n",
    "    frame.pack(expand=True, fill=\"both\")\n",
    "    for btn_text in row:\n",
    "        btn = tk.Button(frame, text=btn_text, font=\"Arial 18\", relief=\"ridge\", border=1)\n",
    "        btn.pack(side=\"left\", expand=True, fill=\"both\", padx=2, pady=2)\n",
    "        btn.bind(\"<Button-1>\", click)\n",
    "\n",
    "\n",
    "root.mainloop()\n"
   ]
  }
 ],
 "metadata": {
  "kernelspec": {
   "display_name": "base",
   "language": "python",
   "name": "python3"
  },
  "language_info": {
   "codemirror_mode": {
    "name": "ipython",
    "version": 3
   },
   "file_extension": ".py",
   "mimetype": "text/x-python",
   "name": "python",
   "nbconvert_exporter": "python",
   "pygments_lexer": "ipython3",
   "version": "3.12.4"
  }
 },
 "nbformat": 4,
 "nbformat_minor": 2
}
